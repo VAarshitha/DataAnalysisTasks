{
 "cells": [
  {
   "cell_type": "code",
   "execution_count": 1,
   "id": "f8da5cc1-4f5d-46fa-9f7d-76ccae5e33a6",
   "metadata": {},
   "outputs": [],
   "source": [
    "import numpy as np"
   ]
  },
  {
   "cell_type": "code",
   "execution_count": 30,
   "id": "00889bb7-3086-4b2e-8ba0-fd74785228db",
   "metadata": {},
   "outputs": [],
   "source": [
    "def matrix_operations(matrix):\n",
    "    determinant = np.linalg.det(matrix)\n",
    "    transpose = np.transpose(matrix)\n",
    "    try:\n",
    "        inverse = np.linalg.inv(matrix)\n",
    "    except np.linalg.LinAlgError:\n",
    "        inverse = None\n",
    "    return determinant, transpose, inverse"
   ]
  },
  {
   "cell_type": "code",
   "execution_count": 32,
   "id": "5204dbfe-115a-4e2c-a42e-1fd396f3d855",
   "metadata": {},
   "outputs": [],
   "source": [
    "matrix = np.array([\n",
    "    [4, 7],\n",
    "    [2, 6]\n",
    "])\n"
   ]
  },
  {
   "cell_type": "code",
   "execution_count": 40,
   "id": "c10519e9-7ed4-41ee-82dc-1a057fbae37d",
   "metadata": {},
   "outputs": [
    {
     "ename": "TypeError",
     "evalue": "cannot unpack non-iterable NoneType object",
     "output_type": "error",
     "traceback": [
      "\u001b[1;31m---------------------------------------------------------------------------\u001b[0m",
      "\u001b[1;31mTypeError\u001b[0m                                 Traceback (most recent call last)",
      "Cell \u001b[1;32mIn[40], line 1\u001b[0m\n\u001b[1;32m----> 1\u001b[0m det, trans, inv \u001b[38;5;241m=\u001b[39m matrix_operations(matrix)\n\u001b[0;32m      2\u001b[0m matrix_operations(matrix)\n\u001b[0;32m      4\u001b[0m \u001b[38;5;28mprint\u001b[39m(\u001b[38;5;124m\"\u001b[39m\u001b[38;5;124mDeterminant:\u001b[39m\u001b[38;5;124m\"\u001b[39m, det)\n",
      "\u001b[1;31mTypeError\u001b[0m: cannot unpack non-iterable NoneType object"
     ]
    }
   ],
   "source": [
    "det, trans, inv = matrix_operations(matrix)\n",
    "matrix_operations(matrix)\n",
    "\n",
    "print(\"Determinant:\", det)\n",
    "print(\"Transpose:\\n\", trans)\n",
    "if inv is None:\n",
    "    print(\"Inverse: Matrix is not invertible\")\n",
    "else:\n",
    "    print(\"Inverse:\\n\", inv)"
   ]
  },
  {
   "cell_type": "code",
   "execution_count": null,
   "id": "78296209-d1ce-473c-b773-c8016ef74dd1",
   "metadata": {},
   "outputs": [],
   "source": []
  },
  {
   "cell_type": "code",
   "execution_count": null,
   "id": "b94ac31c-5719-4bf4-bc6c-cddb89d9e5cc",
   "metadata": {},
   "outputs": [],
   "source": []
  }
 ],
 "metadata": {
  "kernelspec": {
   "display_name": "Python [conda env:base] *",
   "language": "python",
   "name": "conda-base-py"
  },
  "language_info": {
   "codemirror_mode": {
    "name": "ipython",
    "version": 3
   },
   "file_extension": ".py",
   "mimetype": "text/x-python",
   "name": "python",
   "nbconvert_exporter": "python",
   "pygments_lexer": "ipython3",
   "version": "3.12.7"
  }
 },
 "nbformat": 4,
 "nbformat_minor": 5
}
