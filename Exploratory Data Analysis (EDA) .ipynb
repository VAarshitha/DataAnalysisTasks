{
 "cells": [
  {
   "cell_type": "code",
   "execution_count": 1,
   "id": "36b27d81-461a-4068-8d6a-82e5ee3cc37e",
   "metadata": {},
   "outputs": [],
   "source": [
    "import numpy as np\n"
   ]
  },
  {
   "cell_type": "markdown",
   "id": "91d89425-33e2-4285-9d30-17a1b3cefd6a",
   "metadata": {},
   "source": [
    "# Movie ratings: Rows = Movies, Columns = User Ratings"
   ]
  },
  {
   "cell_type": "code",
   "execution_count": 4,
   "id": "d8bbcf04-fe1f-4b99-b1b7-ee9a9b579b0f",
   "metadata": {},
   "outputs": [],
   "source": [
    "\n",
    "ratings = np.array([\n",
    "    [4.5, 3.8, 4.0, np.nan],\n",
    "    [3.9, 4.2, 4.8, 4.0],\n",
    "    [2.9, 3.5, np.nan, 3.2]\n",
    "])\n"
   ]
  },
  {
   "cell_type": "markdown",
   "id": "0126adac-86e6-4ccc-b3e5-9392f6c573f4",
   "metadata": {},
   "source": [
    "# Average ratings per movie (ignoring NaN)"
   ]
  },
  {
   "cell_type": "code",
   "execution_count": null,
   "id": "4a1357d8-9c0b-4926-bb7a-2ab11e68cada",
   "metadata": {},
   "outputs": [],
   "source": [
    "\n",
    "avg_ratings = np.nanmean(ratings, axis=1)\n"
   ]
  },
  {
   "cell_type": "code",
   "execution_count": null,
   "id": "fc994282-c6ff-4f63-81cb-c793167be1e6",
   "metadata": {},
   "outputs": [],
   "source": []
  },
  {
   "cell_type": "code",
   "execution_count": null,
   "id": "cdb15966-48b8-44fe-8101-559f2437001d",
   "metadata": {},
   "outputs": [],
   "source": [
    "# Movie with the highest rating\n",
    "highest_rated_movie = np.argmax(avg_ratings) + 1\n",
    "\n",
    "print(\"Average Ratings per Movie:\", avg_ratings)\n",
    "print(\"Highest Rated Movie:\", highest_rated_movie)"
   ]
  },
  {
   "cell_type": "code",
   "execution_count": null,
   "id": "320d1653-5add-4959-ae6f-5d4376d87707",
   "metadata": {},
   "outputs": [],
   "source": []
  }
 ],
 "metadata": {
  "kernelspec": {
   "display_name": "Python [conda env:base] *",
   "language": "python",
   "name": "conda-base-py"
  },
  "language_info": {
   "codemirror_mode": {
    "name": "ipython",
    "version": 3
   },
   "file_extension": ".py",
   "mimetype": "text/x-python",
   "name": "python",
   "nbconvert_exporter": "python",
   "pygments_lexer": "ipython3",
   "version": "3.12.7"
  }
 },
 "nbformat": 4,
 "nbformat_minor": 5
}
