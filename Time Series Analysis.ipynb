{
 "cells": [
  {
   "cell_type": "code",
   "execution_count": 1,
   "id": "6b37aa86-6547-4edc-8f79-48a82e34c40c",
   "metadata": {},
   "outputs": [],
   "source": [
    "import numpy as np"
   ]
  },
  {
   "cell_type": "markdown",
   "id": "c7bf5b54-e8cb-43a3-865c-3a5e7afb4912",
   "metadata": {},
   "source": [
    "# Daily temperature data for a month"
   ]
  },
  {
   "cell_type": "code",
   "execution_count": 4,
   "id": "76cd49ec-379f-4a66-b63b-aa7cdb641bf7",
   "metadata": {},
   "outputs": [],
   "source": [
    "temperature_data = np.random.randint(15, 40, size=30)  # Random temperatures between 15°C and 40°C"
   ]
  },
  {
   "cell_type": "markdown",
   "id": "bdcd3236-ae4c-4495-96d1-325592caa1ff",
   "metadata": {},
   "source": [
    "# Hottest and coldest days"
   ]
  },
  {
   "cell_type": "code",
   "execution_count": 7,
   "id": "ac0c3a5f-2058-4cff-83c5-328d6ba1b39b",
   "metadata": {},
   "outputs": [],
   "source": [
    "\n",
    "hottest_day = np.argmax(temperature_data) + 1\n",
    "coldest_day = np.argmin(temperature_data) + 1"
   ]
  },
  {
   "cell_type": "markdown",
   "id": "40718eed-fbc7-4a24-a720-1ea8196f915e",
   "metadata": {},
   "source": [
    "# Moving average (7-day window)"
   ]
  },
  {
   "cell_type": "code",
   "execution_count": 10,
   "id": "d6623900-94cd-41fe-bb30-d94fdcdc0560",
   "metadata": {},
   "outputs": [],
   "source": [
    "\n",
    "moving_avg = np.convolve(temperature_data, np.ones(7)/7, mode='valid')\n"
   ]
  },
  {
   "cell_type": "code",
   "execution_count": null,
   "id": "01cccbae-3ac7-49a5-ac48-5e2c4a148fd8",
   "metadata": {},
   "outputs": [],
   "source": [
    "print(\"Daily Temperatures:\", temperature_data)\n",
    "print(\"Hottest Day:\", hottest_day)\n",
    "print(\"Coldest Day:\", coldest_day)\n",
    "print(\"7-Day Moving Average:\", moving_avg)"
   ]
  },
  {
   "cell_type": "code",
   "execution_count": null,
   "id": "4efe4a65-3bd6-4512-a696-b0ac1f4f2c6f",
   "metadata": {},
   "outputs": [],
   "source": []
  },
  {
   "cell_type": "code",
   "execution_count": null,
   "id": "d1f2305d-c940-4fff-8db0-c7726915c65d",
   "metadata": {},
   "outputs": [],
   "source": []
  }
 ],
 "metadata": {
  "kernelspec": {
   "display_name": "Python [conda env:base] *",
   "language": "python",
   "name": "conda-base-py"
  },
  "language_info": {
   "codemirror_mode": {
    "name": "ipython",
    "version": 3
   },
   "file_extension": ".py",
   "mimetype": "text/x-python",
   "name": "python",
   "nbconvert_exporter": "python",
   "pygments_lexer": "ipython3",
   "version": "3.12.7"
  }
 },
 "nbformat": 4,
 "nbformat_minor": 5
}
