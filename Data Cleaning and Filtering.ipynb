{
 "cells": [
  {
   "cell_type": "code",
   "execution_count": 1,
   "id": "ecfd1561-a1d9-4b57-9a27-185743ca1b52",
   "metadata": {},
   "outputs": [],
   "source": [
    "import numpy as np"
   ]
  },
  {
   "cell_type": "markdown",
   "id": "444d7396-99f5-4634-85dd-6d0b52b14a97",
   "metadata": {},
   "source": [
    "# Customer purchase data (with some invalid entries)"
   ]
  },
  {
   "cell_type": "code",
   "execution_count": 3,
   "id": "3267b7f4-f53c-4b44-a2b5-05dca13c68e4",
   "metadata": {},
   "outputs": [],
   "source": [
    "data = np.array([200, 450, -100, np.nan, 300, 0, 600, 'invalid', 500], dtype=object)"
   ]
  },
  {
   "cell_type": "markdown",
   "id": "6283f355-ff32-437f-a025-4269395a5bc8",
   "metadata": {},
   "source": [
    "# Remove invalid entries"
   ]
  },
  {
   "cell_type": "code",
   "execution_count": 5,
   "id": "53b42370-5441-4ad7-b82e-4e9d1890a528",
   "metadata": {},
   "outputs": [],
   "source": [
    "valid_data = np.array([x for x in data if isinstance(x, (int, float)) and x > 0])\n"
   ]
  },
  {
   "cell_type": "markdown",
   "id": "b42e959b-aaee-4d14-a86b-4f5cb08240f3",
   "metadata": {},
   "source": [
    "# Calculate average purchase"
   ]
  },
  {
   "cell_type": "code",
   "execution_count": 9,
   "id": "c76eb901-3c76-4d5c-9efe-683907e3bb52",
   "metadata": {},
   "outputs": [],
   "source": [
    "average_purchase = np.mean(valid_data)"
   ]
  },
  {
   "cell_type": "code",
   "execution_count": null,
   "id": "e53f2e95-5ef9-4c5b-b9c4-3fb1277e26ae",
   "metadata": {},
   "outputs": [],
   "source": []
  },
  {
   "cell_type": "code",
   "execution_count": null,
   "id": "fb962077-6668-4f98-8da6-78b0a68b29ff",
   "metadata": {},
   "outputs": [],
   "source": []
  },
  {
   "cell_type": "code",
   "execution_count": null,
   "id": "1c322328-74b6-4f25-9528-373b3e08c053",
   "metadata": {},
   "outputs": [],
   "source": []
  },
  {
   "cell_type": "code",
   "execution_count": null,
   "id": "556e0e49-07f0-4c13-a4c3-520977a768e1",
   "metadata": {},
   "outputs": [],
   "source": []
  },
  {
   "cell_type": "code",
   "execution_count": null,
   "id": "8b61b96c-fbd0-40ad-b8d8-5f587a7dddcf",
   "metadata": {},
   "outputs": [],
   "source": []
  },
  {
   "cell_type": "code",
   "execution_count": null,
   "id": "dba471cc-aa77-4371-8861-80121096cfb7",
   "metadata": {},
   "outputs": [],
   "source": []
  }
 ],
 "metadata": {
  "kernelspec": {
   "display_name": "Python [conda env:base] *",
   "language": "python",
   "name": "conda-base-py"
  },
  "language_info": {
   "codemirror_mode": {
    "name": "ipython",
    "version": 3
   },
   "file_extension": ".py",
   "mimetype": "text/x-python",
   "name": "python",
   "nbconvert_exporter": "python",
   "pygments_lexer": "ipython3",
   "version": "3.12.7"
  }
 },
 "nbformat": 4,
 "nbformat_minor": 5
}
