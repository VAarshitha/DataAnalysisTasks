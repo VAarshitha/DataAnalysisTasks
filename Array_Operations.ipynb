{
 "cells": [
  {
   "cell_type": "code",
   "execution_count": 1,
   "id": "91ba01e3-2af4-4ca6-bc18-70ce892badb2",
   "metadata": {},
   "outputs": [],
   "source": [
    "import numpy as np\n"
   ]
  },
  {
   "cell_type": "markdown",
   "id": "a0d7f771-8090-4036-8160-db4ad480478b",
   "metadata": {},
   "source": [
    "# Sales data: Rows = regions, Columns = months"
   ]
  },
  {
   "cell_type": "code",
   "execution_count": 3,
   "id": "63a565bc-bce2-4251-80c8-f1b189486f94",
   "metadata": {},
   "outputs": [],
   "source": [
    "sales_data = np.array([\n",
    "    [2300, 3400, 2900, 3200],\n",
    "    [4100, 4200, 4000, 4500],\n",
    "    [1800, 2000, 1900, 2100]\n",
    "])"
   ]
  },
  {
   "cell_type": "markdown",
   "id": "970af7e6-3b5a-43b4-8451-273fbe4a42e3",
   "metadata": {},
   "source": [
    "# Total sales per region"
   ]
  },
  {
   "cell_type": "code",
   "execution_count": 5,
   "id": "9ba71080-9985-439f-b868-7da4706a1340",
   "metadata": {},
   "outputs": [],
   "source": [
    "total_sales = np.sum(sales_data, axis=1)\n"
   ]
  },
  {
   "cell_type": "code",
   "execution_count": null,
   "id": "0475e8ac-a350-42b3-85fe-4ee62922b836",
   "metadata": {},
   "outputs": [],
   "source": []
  },
  {
   "cell_type": "code",
   "execution_count": 7,
   "id": "72a977c5-2e05-4190-a7c4-301ee23ca41b",
   "metadata": {},
   "outputs": [],
   "source": [
    "highest_sales_month = np.argmax(sales_data, axis=1)\n"
   ]
  },
  {
   "cell_type": "code",
   "execution_count": 9,
   "id": "3965be6d-69cf-4a14-bd18-0b8bcdf4d746",
   "metadata": {},
   "outputs": [],
   "source": [
    "normalized_sales = (sales_data - np.min(sales_data)) / (np.max(sales_data) - np.min(sales_data))"
   ]
  },
  {
   "cell_type": "code",
   "execution_count": 11,
   "id": "aef0a664-a51a-4eb1-a4eb-bd0b3982bd19",
   "metadata": {},
   "outputs": [
    {
     "name": "stdout",
     "output_type": "stream",
     "text": [
      "Total Sales per Region: [11800 16800  7800]\n",
      "Month with Highest Sales per Region: [2 4 4]\n",
      "Normalized Sales Data:\n",
      " [[0.18518519 0.59259259 0.40740741 0.51851852]\n",
      " [0.85185185 0.88888889 0.81481481 1.        ]\n",
      " [0.         0.07407407 0.03703704 0.11111111]]\n"
     ]
    }
   ],
   "source": [
    "print(\"Total Sales per Region:\", total_sales)\n",
    "print(\"Month with Highest Sales per Region:\", highest_sales_month + 1)  # Month index starts from 1\n",
    "print(\"Normalized Sales Data:\\n\", normalized_sales)"
   ]
  },
  {
   "cell_type": "code",
   "execution_count": null,
   "id": "11b84434-34c1-4e5f-ae1c-07cb793b933f",
   "metadata": {},
   "outputs": [],
   "source": []
  }
 ],
 "metadata": {
  "kernelspec": {
   "display_name": "Python [conda env:base] *",
   "language": "python",
   "name": "conda-base-py"
  },
  "language_info": {
   "codemirror_mode": {
    "name": "ipython",
    "version": 3
   },
   "file_extension": ".py",
   "mimetype": "text/x-python",
   "name": "python",
   "nbconvert_exporter": "python",
   "pygments_lexer": "ipython3",
   "version": "3.12.7"
  }
 },
 "nbformat": 4,
 "nbformat_minor": 5
}
